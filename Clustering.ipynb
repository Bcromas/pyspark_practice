{
 "cells": [
  {
   "cell_type": "markdown",
   "metadata": {},
   "source": [
    "# Clustering"
   ]
  },
  {
   "cell_type": "markdown",
   "metadata": {},
   "source": [
    "In this scenario we're tasked with determining whether two or three hackers took part in an attack. We have data regarding details of the attacks and our task is to see if clustering can help us determine the correct number of attackers.  "
   ]
  },
  {
   "cell_type": "code",
   "execution_count": 1,
   "metadata": {},
   "outputs": [],
   "source": [
    "import findspark\n",
    "findspark.init(\"/home/bryan/Documents/Code/spark-2.4.5-bin-hadoop2.7\")"
   ]
  },
  {
   "cell_type": "code",
   "execution_count": 2,
   "metadata": {},
   "outputs": [],
   "source": [
    "from pyspark.sql import SparkSession\n",
    "spark = SparkSession.builder.appName('hack').getOrCreate()"
   ]
  },
  {
   "cell_type": "markdown",
   "metadata": {},
   "source": [
    "# EDA"
   ]
  },
  {
   "cell_type": "code",
   "execution_count": 3,
   "metadata": {},
   "outputs": [],
   "source": [
    "data = spark.read.csv(\"data/hack_data.csv\", inferSchema=True, header=True)"
   ]
  },
  {
   "cell_type": "code",
   "execution_count": 4,
   "metadata": {},
   "outputs": [
    {
     "name": "stdout",
     "output_type": "stream",
     "text": [
      "root\n",
      " |-- Session_Connection_Time: double (nullable = true)\n",
      " |-- Bytes Transferred: double (nullable = true)\n",
      " |-- Kali_Trace_Used: integer (nullable = true)\n",
      " |-- Servers_Corrupted: double (nullable = true)\n",
      " |-- Pages_Corrupted: double (nullable = true)\n",
      " |-- Location: string (nullable = true)\n",
      " |-- WPM_Typing_Speed: double (nullable = true)\n",
      "\n"
     ]
    }
   ],
   "source": [
    "data.printSchema()"
   ]
  },
  {
   "cell_type": "code",
   "execution_count": 5,
   "metadata": {},
   "outputs": [
    {
     "name": "stdout",
     "output_type": "stream",
     "text": [
      "+-------+-----------------------+------------------+------------------+-----------------+------------------+-----------+------------------+\n",
      "|summary|Session_Connection_Time| Bytes Transferred|   Kali_Trace_Used|Servers_Corrupted|   Pages_Corrupted|   Location|  WPM_Typing_Speed|\n",
      "+-------+-----------------------+------------------+------------------+-----------------+------------------+-----------+------------------+\n",
      "|  count|                    334|               334|               334|              334|               334|        334|               334|\n",
      "|   mean|     30.008982035928145| 607.2452694610777|0.5119760479041916|5.258502994011977|10.838323353293413|       null|57.342395209580864|\n",
      "| stddev|     14.088200614636158|286.33593163576757|0.5006065264451406| 2.30190693339697|  3.06352633036022|       null| 13.41106336843464|\n",
      "|    min|                    1.0|              10.0|                 0|              1.0|               6.0|Afghanistan|              40.0|\n",
      "|    max|                   60.0|            1330.5|                 1|             10.0|              15.0|   Zimbabwe|              75.0|\n",
      "+-------+-----------------------+------------------+------------------+-----------------+------------------+-----------+------------------+\n",
      "\n"
     ]
    }
   ],
   "source": [
    "data.describe().show()"
   ]
  },
  {
   "cell_type": "code",
   "execution_count": 6,
   "metadata": {},
   "outputs": [
    {
     "data": {
      "text/plain": [
       "1.8453038674033149"
      ]
     },
     "execution_count": 6,
     "metadata": {},
     "output_type": "execute_result"
    }
   ],
   "source": [
    "data.count()/data.groupby('Location').count().count()"
   ]
  },
  {
   "cell_type": "markdown",
   "metadata": {},
   "source": [
    "> ### It looks like we'll want to standardize our data since features with a larger magnitude will overshadow the smaller ones.\n",
    "\n",
    "> ### Also, even though the data may not be reliable and specific countries are only occassionally repeated, we should convert 'Location' or a generate feature into a One-Hot value. There appear to be 181 unique location values, we'll try mapping them to region values."
   ]
  },
  {
   "cell_type": "markdown",
   "metadata": {},
   "source": [
    "# Pre-processing"
   ]
  },
  {
   "cell_type": "code",
   "execution_count": 7,
   "metadata": {},
   "outputs": [],
   "source": [
    "import pandas as pd"
   ]
  },
  {
   "cell_type": "code",
   "execution_count": 8,
   "metadata": {},
   "outputs": [
    {
     "data": {
      "text/html": [
       "<div>\n",
       "<style scoped>\n",
       "    .dataframe tbody tr th:only-of-type {\n",
       "        vertical-align: middle;\n",
       "    }\n",
       "\n",
       "    .dataframe tbody tr th {\n",
       "        vertical-align: top;\n",
       "    }\n",
       "\n",
       "    .dataframe thead th {\n",
       "        text-align: right;\n",
       "    }\n",
       "</style>\n",
       "<table border=\"1\" class=\"dataframe\">\n",
       "  <thead>\n",
       "    <tr style=\"text-align: right;\">\n",
       "      <th></th>\n",
       "      <th>Country</th>\n",
       "      <th>Region</th>\n",
       "    </tr>\n",
       "  </thead>\n",
       "  <tbody>\n",
       "    <tr>\n",
       "      <th>0</th>\n",
       "      <td>Andorra</td>\n",
       "      <td>Europe</td>\n",
       "    </tr>\n",
       "    <tr>\n",
       "      <th>1</th>\n",
       "      <td>United Arab Emirates</td>\n",
       "      <td>Middle east</td>\n",
       "    </tr>\n",
       "    <tr>\n",
       "      <th>2</th>\n",
       "      <td>Afghanistan</td>\n",
       "      <td>Asia &amp; Pacific</td>\n",
       "    </tr>\n",
       "  </tbody>\n",
       "</table>\n",
       "</div>"
      ],
      "text/plain": [
       "                Country          Region\n",
       "0               Andorra          Europe\n",
       "1  United Arab Emirates     Middle east\n",
       "2           Afghanistan  Asia & Pacific"
      ]
     },
     "execution_count": 8,
     "metadata": {},
     "output_type": "execute_result"
    }
   ],
   "source": [
    "region_df = pd.read_html('https://meta.wikimedia.org/wiki/List_of_countries_by_regional_classification', flavor='lxml')[0]\n",
    "region_df.drop(columns='Global South', inplace=True)\n",
    "region_df.head(3)"
   ]
  },
  {
   "cell_type": "code",
   "execution_count": 9,
   "metadata": {},
   "outputs": [
    {
     "name": "stdout",
     "output_type": "stream",
     "text": [
      "+-----------------------+-----------------+---------------+-----------------+---------------+--------------------+----------------+--------------------+-------------------+\n",
      "|Session_Connection_Time|Bytes Transferred|Kali_Trace_Used|Servers_Corrupted|Pages_Corrupted|            Location|WPM_Typing_Speed|             Country|             Region|\n",
      "+-----------------------+-----------------+---------------+-----------------+---------------+--------------------+----------------+--------------------+-------------------+\n",
      "|                   27.0|           874.26|              0|             7.05|           14.0|            Anguilla|           45.72|            Anguilla|South/Latin America|\n",
      "|                   39.0|           866.95|              0|             6.82|           14.0|            Paraguay|           44.12|            Paraguay|South/Latin America|\n",
      "|                   51.0|           723.94|              1|             6.34|           13.0|            Paraguay|           44.27|            Paraguay|South/Latin America|\n",
      "|                   45.0|          1081.75|              1|             5.66|           13.0|               Macao|           44.69|                null|               null|\n",
      "|                   40.0|           920.82|              1|             8.52|           14.0|               Macao|           47.97|                null|               null|\n",
      "|                   22.0|           274.24|              1|              2.1|            8.0|Heard Island and ...|           68.81|Heard Island and ...|     Asia & Pacific|\n",
      "|                   41.0|           752.95|              0|             9.37|           14.0|Heard Island and ...|           46.52|Heard Island and ...|     Asia & Pacific|\n",
      "|                   13.0|            91.86|              1|             5.07|            8.0|               Yemen|           69.43|               Yemen|        Middle east|\n",
      "|                   20.0|           429.64|              0|             2.47|            8.0|              Sweden|           71.75|              Sweden|             Europe|\n",
      "|                    7.0|           178.56|              0|             4.18|            8.0|              Sweden|           72.42|              Sweden|             Europe|\n",
      "|                   42.0|           500.49|              0|             8.21|           12.0|              Sweden|            43.7|              Sweden|             Europe|\n",
      "|                   31.0|           356.32|              1|             3.71|            8.0|             Tokelau|           70.58|             Tokelau|     Asia & Pacific|\n",
      "|                    8.0|           752.49|              0|             4.11|            9.0|             Tokelau|           70.41|             Tokelau|     Asia & Pacific|\n",
      "|                   30.0|            460.6|              0|             7.15|           14.0|French Southern T...|           45.57|French Southern T...|     Asia & Pacific|\n",
      "|                   45.0|           846.68|              0|             9.98|           15.0|French Southern T...|           42.24|French Southern T...|     Asia & Pacific|\n",
      "|                   41.0|           706.51|              0|             7.61|           14.0|French Southern T...|           44.58|French Southern T...|     Asia & Pacific|\n",
      "|                   35.0|           669.51|              0|             7.12|           14.0|            Kiribati|           45.94|            Kiribati|     Asia & Pacific|\n",
      "|                   18.0|           393.15|              0|             2.25|            8.0|              Guyana|           70.87|              Guyana|South/Latin America|\n",
      "|                   48.0|           957.19|              1|             6.95|           13.0|              Guyana|           43.43|              Guyana|South/Latin America|\n",
      "|                   33.0|           364.88|              0|             3.52|            7.0|         Philippines|           74.24|         Philippines|     Asia & Pacific|\n",
      "+-----------------------+-----------------+---------------+-----------------+---------------+--------------------+----------------+--------------------+-------------------+\n",
      "only showing top 20 rows\n",
      "\n"
     ]
    }
   ],
   "source": [
    "region_df = spark.createDataFrame(region_df)\n",
    "data = data.join(region_df, data.Location == region_df.Country, how='left')\n",
    "data.show()"
   ]
  },
  {
   "cell_type": "markdown",
   "metadata": {},
   "source": [
    "## Convert 'Region' to index value"
   ]
  },
  {
   "cell_type": "code",
   "execution_count": 10,
   "metadata": {},
   "outputs": [],
   "source": [
    "from pyspark.ml.feature import OneHotEncoder, StringIndexer, StandardScaler, VectorAssembler"
   ]
  },
  {
   "cell_type": "code",
   "execution_count": 11,
   "metadata": {},
   "outputs": [],
   "source": [
    "location_indexer = StringIndexer(inputCol='Region', outputCol='Region_index', handleInvalid='keep')"
   ]
  },
  {
   "cell_type": "code",
   "execution_count": 12,
   "metadata": {},
   "outputs": [],
   "source": [
    "data = location_indexer.fit(data).transform(data)"
   ]
  },
  {
   "cell_type": "code",
   "execution_count": 13,
   "metadata": {},
   "outputs": [
    {
     "name": "stdout",
     "output_type": "stream",
     "text": [
      "+-----------------------+-----------------+---------------+-----------------+---------------+--------------------+----------------+--------------------+-------------------+------------+\n",
      "|Session_Connection_Time|Bytes Transferred|Kali_Trace_Used|Servers_Corrupted|Pages_Corrupted|            Location|WPM_Typing_Speed|             Country|             Region|Region_index|\n",
      "+-----------------------+-----------------+---------------+-----------------+---------------+--------------------+----------------+--------------------+-------------------+------------+\n",
      "|                   27.0|           874.26|              0|             7.05|           14.0|            Anguilla|           45.72|            Anguilla|South/Latin America|         2.0|\n",
      "|                   39.0|           866.95|              0|             6.82|           14.0|            Paraguay|           44.12|            Paraguay|South/Latin America|         2.0|\n",
      "|                   51.0|           723.94|              1|             6.34|           13.0|            Paraguay|           44.27|            Paraguay|South/Latin America|         2.0|\n",
      "|                   45.0|          1081.75|              1|             5.66|           13.0|               Macao|           44.69|                null|               null|         7.0|\n",
      "|                   40.0|           920.82|              1|             8.52|           14.0|               Macao|           47.97|                null|               null|         7.0|\n",
      "|                   22.0|           274.24|              1|              2.1|            8.0|Heard Island and ...|           68.81|Heard Island and ...|     Asia & Pacific|         0.0|\n",
      "|                   41.0|           752.95|              0|             9.37|           14.0|Heard Island and ...|           46.52|Heard Island and ...|     Asia & Pacific|         0.0|\n",
      "|                   13.0|            91.86|              1|             5.07|            8.0|               Yemen|           69.43|               Yemen|        Middle east|         5.0|\n",
      "|                   20.0|           429.64|              0|             2.47|            8.0|              Sweden|           71.75|              Sweden|             Europe|         1.0|\n",
      "|                    7.0|           178.56|              0|             4.18|            8.0|              Sweden|           72.42|              Sweden|             Europe|         1.0|\n",
      "+-----------------------+-----------------+---------------+-----------------+---------------+--------------------+----------------+--------------------+-------------------+------------+\n",
      "only showing top 10 rows\n",
      "\n"
     ]
    }
   ],
   "source": [
    "data.show(10)"
   ]
  },
  {
   "cell_type": "markdown",
   "metadata": {},
   "source": [
    "## Convert 'Region' index to one-hot value"
   ]
  },
  {
   "cell_type": "code",
   "execution_count": 14,
   "metadata": {},
   "outputs": [],
   "source": [
    "onehot_encoder = OneHotEncoder(inputCol='Region_index', outputCol='Region_1hot')"
   ]
  },
  {
   "cell_type": "code",
   "execution_count": 15,
   "metadata": {},
   "outputs": [],
   "source": [
    "data = onehot_encoder.transform(data)"
   ]
  },
  {
   "cell_type": "code",
   "execution_count": 16,
   "metadata": {},
   "outputs": [
    {
     "name": "stdout",
     "output_type": "stream",
     "text": [
      "+-----------------------+-----------------+---------------+-----------------+---------------+--------+----------------+--------+-------------------+------------+-------------+\n",
      "|Session_Connection_Time|Bytes Transferred|Kali_Trace_Used|Servers_Corrupted|Pages_Corrupted|Location|WPM_Typing_Speed| Country|             Region|Region_index|  Region_1hot|\n",
      "+-----------------------+-----------------+---------------+-----------------+---------------+--------+----------------+--------+-------------------+------------+-------------+\n",
      "|                   27.0|           874.26|              0|             7.05|           14.0|Anguilla|           45.72|Anguilla|South/Latin America|         2.0|(7,[2],[1.0])|\n",
      "|                   39.0|           866.95|              0|             6.82|           14.0|Paraguay|           44.12|Paraguay|South/Latin America|         2.0|(7,[2],[1.0])|\n",
      "|                   51.0|           723.94|              1|             6.34|           13.0|Paraguay|           44.27|Paraguay|South/Latin America|         2.0|(7,[2],[1.0])|\n",
      "+-----------------------+-----------------+---------------+-----------------+---------------+--------+----------------+--------+-------------------+------------+-------------+\n",
      "only showing top 3 rows\n",
      "\n"
     ]
    }
   ],
   "source": [
    "data.show(3)"
   ]
  },
  {
   "cell_type": "markdown",
   "metadata": {},
   "source": [
    "## Create feature vector"
   ]
  },
  {
   "cell_type": "code",
   "execution_count": 17,
   "metadata": {},
   "outputs": [],
   "source": [
    "assembler = VectorAssembler(\n",
    "    inputCols=[\n",
    "        'Session_Connection_Time',\n",
    "        'Bytes Transferred',\n",
    "        'Kali_Trace_Used',\n",
    "        'Servers_Corrupted',\n",
    "        'Pages_Corrupted',\n",
    "        'WPM_Typing_Speed',\n",
    "        'Region_1hot'        \n",
    "    ],\n",
    "    outputCol='features'\n",
    ")"
   ]
  },
  {
   "cell_type": "code",
   "execution_count": 18,
   "metadata": {},
   "outputs": [],
   "source": [
    "data = assembler.transform(data)"
   ]
  },
  {
   "cell_type": "markdown",
   "metadata": {},
   "source": [
    "# Cluster data"
   ]
  },
  {
   "cell_type": "code",
   "execution_count": 20,
   "metadata": {},
   "outputs": [],
   "source": [
    "from pyspark.ml.clustering import KMeans"
   ]
  },
  {
   "cell_type": "code",
   "execution_count": 21,
   "metadata": {},
   "outputs": [],
   "source": [
    "two_clusters = KMeans(featuresCol='features',k=2,seed=7)\n",
    "three_clusters = KMeans(featuresCol='features',k=3,seed=7)"
   ]
  },
  {
   "cell_type": "code",
   "execution_count": 23,
   "metadata": {},
   "outputs": [],
   "source": [
    "two_fitted = two_clusters.fit(data)"
   ]
  },
  {
   "cell_type": "code",
   "execution_count": 24,
   "metadata": {},
   "outputs": [],
   "source": [
    "three_fitted = three_clusters.fit(data)"
   ]
  },
  {
   "cell_type": "code",
   "execution_count": 27,
   "metadata": {},
   "outputs": [
    {
     "data": {
      "text/plain": [
       "(6915435.188680077, 4081392.6450254675)"
      ]
     },
     "execution_count": 27,
     "metadata": {},
     "output_type": "execute_result"
    }
   ],
   "source": [
    "sum_sq_dist = two_fitted.computeCost(data), three_fitted.computeCost(data)"
   ]
  },
  {
   "cell_type": "markdown",
   "metadata": {},
   "source": [
    "# END"
   ]
  }
 ],
 "metadata": {
  "kernelspec": {
   "display_name": "Python 3",
   "language": "python",
   "name": "python3"
  },
  "language_info": {
   "codemirror_mode": {
    "name": "ipython",
    "version": 3
   },
   "file_extension": ".py",
   "mimetype": "text/x-python",
   "name": "python",
   "nbconvert_exporter": "python",
   "pygments_lexer": "ipython3",
   "version": "3.6.12"
  }
 },
 "nbformat": 4,
 "nbformat_minor": 4
}
